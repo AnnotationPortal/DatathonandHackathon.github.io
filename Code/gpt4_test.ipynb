{
 "cells": [
  {
   "cell_type": "markdown",
   "metadata": {},
   "source": [
    "# GPT-4 interaction using the OpenAI API\n",
    "\n",
    "(C) 2024 by [Damir Cavar](http://damir.cavar.me/)\n",
    "\n",
    "This is a tutorial related to the discussion of training classifiers for antisemitism in social media detection.\n",
    "\n",
    "The basic API example is documented on the [OpenAI](https://openai.com/) website. The code below is extended and based on the example provided by [OpenAI](https://openai.com/)."
   ]
  },
  {
   "cell_type": "markdown",
   "metadata": {},
   "source": [
    "**Download:** This and various other Jupyter notebooks are available from my [GitHub repo](https://github.com/dcavar/python-tutorial-for-ipython)."
   ]
  },
  {
   "cell_type": "markdown",
   "metadata": {},
   "source": [
    "**Version:** 1.1, October 2024"
   ]
  },
  {
   "cell_type": "markdown",
   "metadata": {},
   "source": [
    "**License:** [Creative Commons Attribution-ShareAlike 4.0 International License](https://creativecommons.org/licenses/by-sa/4.0/) ([CA BY-SA 4.0](https://creativecommons.org/licenses/by-sa/4.0/))"
   ]
  },
  {
   "cell_type": "markdown",
   "metadata": {},
   "source": [
    "**Prerequisites:**\n",
    "\n",
    "The code requires the `openai` module for Python:"
   ]
  },
  {
   "cell_type": "code",
   "execution_count": null,
   "metadata": {},
   "outputs": [],
   "source": [
    "!pip install -U openai"
   ]
  },
  {
   "cell_type": "markdown",
   "metadata": {},
   "source": [
    "You will need to create a file `secret.py` in the same location as this notebook and set the following variable in it:\n",
    "\n",
    "    api_key = \"...\"\n",
    "\n",
    "Make sure that you replace the three dots with your [OpenAI](https://openai.com/) API key.\n",
    "\n",
    "Alternatively, follow the instructions on the [OpenAI](https://openai.com/) site and set the environmental variable with the API key. Should you prefer to use some alternative method to provide the API key to the code, you might need to comment out `from secret import apikey` below."
   ]
  },
  {
   "cell_type": "markdown",
   "metadata": {},
   "source": [
    "## Introduction\n",
    "\n",
    "This is a simple notebook that shows how to use the [OpenAI](https://openai.com/) endpoint for [GPT](https://chat.openai.com/), in particular the newly released [GPT-4 turbo](https://platform.openai.com/docs/models/gpt-4-and-gpt-4-turbo)."
   ]
  },
  {
   "cell_type": "code",
   "execution_count": 1,
   "metadata": {},
   "outputs": [],
   "source": [
    "from openai import OpenAI\n",
    "from secret import openai_apikey\n",
    "gpt_model = \"gpt-4-turbo-preview\"\n",
    "gpt_model = \"gpt-4o-2024-08-06\""
   ]
  },
  {
   "cell_type": "markdown",
   "metadata": {},
   "source": [
    "The following code creates an OpenAI `client` that connects with GPT-4."
   ]
  },
  {
   "cell_type": "code",
   "execution_count": 2,
   "metadata": {},
   "outputs": [],
   "source": [
    "client = OpenAI(api_key=openai_apikey)"
   ]
  },
  {
   "cell_type": "markdown",
   "metadata": {},
   "source": [
    "The following function performs the API call and returns the resulting message content."
   ]
  },
  {
   "cell_type": "code",
   "execution_count": 3,
   "metadata": {},
   "outputs": [],
   "source": [
    "def call_gpt4(prompt: str, instructions: str) -> str:\n",
    "    chat_completion = client.chat.completions.create(\n",
    "        messages=[ {\n",
    "                \"role\": \"user\",\n",
    "                \"content\": f'{instructions} {prompt}.'\n",
    "            } ],\n",
    "        model=gpt_model\n",
    "    )\n",
    "    return chat_completion.choices[0].message.content.strip()"
   ]
  },
  {
   "cell_type": "markdown",
   "metadata": {},
   "source": [
    "The `instructions` text provides a context and instructions to GPT-4. The `prompt` contains the full textual prompt."
   ]
  },
  {
   "cell_type": "code",
   "execution_count": 11,
   "metadata": {},
   "outputs": [
    {
     "data": {
      "text/plain": [
       "'Yes.'"
      ]
     },
     "execution_count": 11,
     "metadata": {},
     "output_type": "execute_result"
    }
   ],
   "source": [
    "instructions = \"In the following I will give you sample tweets and ask you to provide detailed answers about them.\"\n",
    "prompt       = \"\"\"I read this tweet. Is it antisemitic? Don't give me explanations, just a yes or no.\n",
    "\"Woman in green hoodie yelling about 'kikes' outside Target Center. #TrumpMinneapolis\"\n",
    "\"\"\"\n",
    "call_gpt4(prompt, instructions)"
   ]
  },
  {
   "cell_type": "markdown",
   "metadata": {},
   "source": [
    "(C) 2024 by [Damir Cavar](http://damir.cavar.me/)"
   ]
  }
 ],
 "metadata": {
  "kernelspec": {
   "display_name": "Python 3",
   "language": "python",
   "name": "python3"
  },
  "language_info": {
   "codemirror_mode": {
    "name": "ipython",
    "version": 3
   },
   "file_extension": ".py",
   "mimetype": "text/x-python",
   "name": "python",
   "nbconvert_exporter": "python",
   "pygments_lexer": "ipython3",
   "version": "3.12.3"
  }
 },
 "nbformat": 4,
 "nbformat_minor": 2
}
